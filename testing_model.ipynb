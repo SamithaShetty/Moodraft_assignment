{
 "cells": [
  {
   "cell_type": "code",
   "execution_count": 1,
   "id": "8abc3728",
   "metadata": {},
   "outputs": [],
   "source": [
    "import cv2\n",
    "import imagehash\n",
    "from PIL import Image\n",
    "import numpy as np"
   ]
  },
  {
   "cell_type": "code",
   "execution_count": null,
   "id": "30b741df",
   "metadata": {},
   "outputs": [],
   "source": [
    "# Define a function to preprocess and compute the hash of the input image\n",
    "def preprocess_and_compute_hash(image_path):\n",
    "    img = cv2.imread(image_path, 0)  # Read the image in grayscale\n",
    "    hash_value = imagehash.dhash(Image.fromarray(img))\n",
    "    return hash_to_binary_vector(str(hash_value))"
   ]
  },
  {
   "cell_type": "code",
   "execution_count": null,
   "id": "dcd2acfa",
   "metadata": {},
   "outputs": [],
   "source": [
    "# Load the trained model (you should replace 'your_model_path' with the actual path to your saved model)\n",
    "from sklearn.externals import joblib\n",
    "clf = joblib.load('your_model_path')\n",
    "\n",
    "# Define the path to the image you want to test\n",
    "input_image_path = 'path_to_input_image.jpg'\n",
    "\n",
    "# Preprocess and compute the hash of the input image\n",
    "input_image_features = preprocess_and_compute_hash(input_image_path)\n",
    "\n",
    "# Make a prediction using the trained model\n",
    "prediction = clf.predict([input_image_features])\n",
    "\n",
    "# Interpret the prediction\n",
    "if prediction[0] == 1:\n",
    "    print(\"The input image is a real image.\")\n",
    "else:\n",
    "    print(\"The input image is a fake image.\")"
   ]
  }
 ],
 "metadata": {
  "kernelspec": {
   "display_name": "Python 3 (ipykernel)",
   "language": "python",
   "name": "python3"
  },
  "language_info": {
   "codemirror_mode": {
    "name": "ipython",
    "version": 3
   },
   "file_extension": ".py",
   "mimetype": "text/x-python",
   "name": "python",
   "nbconvert_exporter": "python",
   "pygments_lexer": "ipython3",
   "version": "3.9.12"
  }
 },
 "nbformat": 4,
 "nbformat_minor": 5
}
