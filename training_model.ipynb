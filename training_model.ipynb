{
 "cells": [
  {
   "cell_type": "code",
   "execution_count": 5,
   "id": "a605205c",
   "metadata": {},
   "outputs": [],
   "source": [
    "import cv2\n",
    "import imagehash\n",
    "import numpy as np\n",
    "import os\n",
    "import glob\n",
    "import joblib\n",
    "from PIL import Image\n",
    "from sklearn.model_selection import GridSearchCV, train_test_split\n",
    "from sklearn.pipeline import Pipeline\n",
    "from sklearn.ensemble import RandomForestClassifier\n",
    "from sklearn.metrics import accuracy_score\n",
    "from sklearn.preprocessing import StandardScaler, MinMaxScaler\n",
    "from sklearn.decomposition import PCA"
   ]
  },
  {
   "cell_type": "code",
   "execution_count": null,
   "id": "84ced5f2",
   "metadata": {},
   "outputs": [],
   "source": [
    "# Define a function to compute image hashes using dHash (perceptual hashing)\n",
    "def compute_image_hash(image_path):\n",
    "    img = cv2.imread(image_path, 0)  # Read the image in grayscale\n",
    "    hash_value = imagehash.dhash(Image.fromarray(img))\n",
    "    return hash_to_binary_vector(str(hash_value))\n",
    "\n",
    "# Define a function to extract features from the dataset\n",
    "def extract_features_and_labels(dataset_path):\n",
    "    fake_images = glob.glob(os.path.join(dataset_path, 'fake', '*.jpg'))\n",
    "    real_images = glob.glob(os.path.join(dataset_path, 'real', '*.jpg'))\n",
    "    \n",
    "    # Combine real and fake images and compute their respective image hashes\n",
    "    images = real_images + fake_images\n",
    "    labels = [1] * len(real_images) + [0] * len(fake_images)\n",
    "    hashes = [compute_image_hash(img) for img in images]\n",
    "    \n",
    "    return hashes, labels\n",
    "\n",
    "# Define a function to convert hash strings to binary vectors\n",
    "def hash_to_binary_vector(hash_str):\n",
    "    binary_vector = []\n",
    "    for char in hash_str:\n",
    "        # Convert each character to a binary digit\n",
    "        binary_digit = bin(int(char, 16))[2:].zfill(4)  # Convert to binary and pad to 4 digits\n",
    "        binary_vector.extend([int(bit) for bit in binary_digit])\n",
    "    return binary_vector\n",
    "\n",
    "\n",
    "# Load the dataset\n",
    "dataset_path = 'path_to_your_dataset_directory'\n",
    "hashes, labels = extract_features_and_labels(dataset_path)\n",
    "\n",
    "# Split the dataset into training and testing sets\n",
    "X_train, X_test, y_train, y_test = train_test_split(hashes, labels, test_size=0.2, random_state=42)\n",
    "\n",
    "# Convert the image hashes to binary vectors\n",
    "X_train_features = [hash_to_binary_vector(hash_str) for hash_str in X_train]\n",
    "X_test_features = [hash_to_binary_vector(hash_str) for hash_str in X_test]"
   ]
  },
  {
   "cell_type": "code",
   "execution_count": null,
   "id": "8717a5f3",
   "metadata": {},
   "outputs": [],
   "source": [
    "# Optional: Fine-tune and experiment with different feature extraction and classification techniques for better performance\n",
    "# Create a pipeline for experimentation\n",
    "pipeline = Pipeline([\n",
    "    ('scaler', StandardScaler()),  # You can experiment with different scalers\n",
    "    ('reduce_dim', PCA()),         # You can experiment with dimensionality reduction techniques\n",
    "    ('clf', RandomForestClassifier(random_state=42))  # You can experiment with different classifiers\n",
    "])\n",
    "\n",
    "# Define hyperparameters to search over\n",
    "param_grid = {\n",
    "    'scaler': [StandardScaler(), MinMaxScaler()],  # Experiment with different scalers\n",
    "    'reduce_dim__n_components': [None, 10, 20],     # Experiment with different PCA components\n",
    "    'clf': [RandomForestClassifier(random_state=42),  # Experiment with different classifiers\n",
    "            DecisionTreeClassifier(random_state=42)]\n",
    "}"
   ]
  },
  {
   "cell_type": "code",
   "execution_count": null,
   "id": "41b457e9",
   "metadata": {},
   "outputs": [],
   "source": [
    "# Create a grid search to find the best combination of hyperparameters\n",
    "grid_search = GridSearchCV(pipeline, param_grid=param_grid, cv=5, verbose=2, n_jobs=-1)\n",
    "\n",
    "# Fit the grid search to your data\n",
    "grid_search.fit(X_train_features, y_train)\n",
    "\n",
    "# Get the best model from the grid search\n",
    "best_model = grid_search.best_estimator_\n",
    "\n",
    "# Evaluate the best model on the test set\n",
    "y_pred = best_model.predict(X_test_features)\n",
    "accuracy = accuracy_score(y_test, y_pred)\n",
    "print(f'Best Model Accuracy: {accuracy}')"
   ]
  },
  {
   "cell_type": "code",
   "execution_count": null,
   "id": "310a8930",
   "metadata": {},
   "outputs": [],
   "source": [
    "# Save the best model\n",
    "best_model_filename = 'best_fake_image_detection_model.pkl'\n",
    "joblib.dump(best_model, best_model_filename)"
   ]
  }
 ],
 "metadata": {
  "kernelspec": {
   "display_name": "Python 3 (ipykernel)",
   "language": "python",
   "name": "python3"
  },
  "language_info": {
   "codemirror_mode": {
    "name": "ipython",
    "version": 3
   },
   "file_extension": ".py",
   "mimetype": "text/x-python",
   "name": "python",
   "nbconvert_exporter": "python",
   "pygments_lexer": "ipython3",
   "version": "3.9.12"
  }
 },
 "nbformat": 4,
 "nbformat_minor": 5
}
